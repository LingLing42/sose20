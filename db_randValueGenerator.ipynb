{
 "cells": [
  {
   "cell_type": "markdown",
   "metadata": {},
   "source": [
    "### Nutzung der Helper-Klasse"
   ]
  },
  {
   "cell_type": "code",
   "execution_count": 1,
   "metadata": {},
   "outputs": [],
   "source": [
    "from db_communication import db_communication"
   ]
  },
  {
   "cell_type": "code",
   "execution_count": 2,
   "metadata": {},
   "outputs": [
    {
     "name": "stdout",
     "output_type": "stream",
     "text": [
      "Successfully connected.\n"
     ]
    }
   ],
   "source": [
    "my_db = db_communication()"
   ]
  },
  {
   "cell_type": "code",
   "execution_count": 3,
   "metadata": {
    "scrolled": true
   },
   "outputs": [
    {
     "data": {
      "text/plain": [
       "['Baugruppen', 'Bauteile', 'Bestellungen']"
      ]
     },
     "execution_count": 3,
     "metadata": {},
     "output_type": "execute_result"
    }
   ],
   "source": [
    "tables = my_db.read_tables()\n",
    "tables = [tables[i][0] for i in range(len(tables))]\n",
    "tables"
   ]
  },
  {
   "cell_type": "code",
   "execution_count": 4,
   "metadata": {},
   "outputs": [
    {
     "name": "stdout",
     "output_type": "stream",
     "text": [
      "Baugruppen\n",
      "[('Baugruppe', 'varchar(20)', 'NO', 'PRI', None, '')]\n",
      "Bauteile\n",
      "[('Bauteile.id', 'int(11)', 'NO', 'PRI', None, 'auto_increment'), ('Baugruppe', 'varchar(20)', 'YES', 'MUL', None, ''), ('Name', 'varchar(40)', 'YES', '', None, ''), ('Farbe', 'varchar(20)', 'YES', '', None, ''), ('Preis', 'float', 'YES', '', None, ''), ('Lieferzeit', 'int(11)', 'YES', '', None, ''), ('Montagezeit', 'int(11)', 'YES', '', None, '')]\n",
      "Bestellungen\n",
      "[('Bestellungen.id', 'int(11)', 'NO', 'PRI', None, 'auto_increment'), ('Lenker', 'int(11)', 'YES', 'MUL', None, ''), ('Rahmen', 'int(11)', 'YES', 'MUL', None, ''), ('Felgen', 'int(11)', 'YES', 'MUL', None, ''), ('Sattel', 'int(11)', 'YES', 'MUL', None, ''), ('Reifen', 'int(11)', 'YES', 'MUL', None, ''), ('Bremsen', 'int(11)', 'YES', 'MUL', None, ''), ('Gangschaltung', 'int(11)', 'YES', 'MUL', None, ''), ('Beleuchtung', 'int(11)', 'YES', 'MUL', None, ''), ('Name', 'varchar(40)', 'YES', '', None, ''), ('Preis', 'float', 'YES', '', None, ''), ('Montagezeit', 'int(11)', 'YES', '', None, ''), ('Lieferzeit', 'int(11)', 'YES', '', None, ''), ('Storniert', 'tinyint(1)', 'YES', '', None, '')]\n"
     ]
    }
   ],
   "source": [
    "for table in tables:\n",
    "    print(table)\n",
    "    print(my_db.show_columns(table))"
   ]
  },
  {
   "cell_type": "code",
   "execution_count": 5,
   "metadata": {},
   "outputs": [],
   "source": [
    "s = my_db.show_columns('Bauteile')"
   ]
  },
  {
   "cell_type": "code",
   "execution_count": 6,
   "metadata": {},
   "outputs": [
    {
     "data": {
      "text/plain": [
       "['Bauteile.id',\n",
       " 'Baugruppe',\n",
       " 'Name',\n",
       " 'Farbe',\n",
       " 'Preis',\n",
       " 'Lieferzeit',\n",
       " 'Montagezeit']"
      ]
     },
     "execution_count": 6,
     "metadata": {},
     "output_type": "execute_result"
    }
   ],
   "source": [
    "[i[0] for i in s]"
   ]
  },
  {
   "cell_type": "markdown",
   "metadata": {},
   "source": [
    "### Funktionen nach Kategorie des zufälligen Wertes: "
   ]
  },
  {
   "cell_type": "code",
   "execution_count": 7,
   "metadata": {},
   "outputs": [],
   "source": [
    "import random\n",
    "def randomElementInList(values):\n",
    "    \"\"\"\n",
    "    Auswahl eines zufälligen Elements aus dem Wertebereich values\n",
    "    Bsp.: ['Basic','Holland','BMX','Klassisch','Einrad'] ->  return = 'BMX'\n",
    "    \"\"\"\n",
    "    return random.choice(values)"
   ]
  },
  {
   "cell_type": "code",
   "execution_count": 8,
   "metadata": {},
   "outputs": [
    {
     "data": {
      "text/plain": [
       "'Holland'"
      ]
     },
     "execution_count": 8,
     "metadata": {},
     "output_type": "execute_result"
    }
   ],
   "source": [
    "randomElementInList(['Basic','Holland','BMX','Klassisch','Einrad'])"
   ]
  },
  {
   "cell_type": "code",
   "execution_count": 9,
   "metadata": {},
   "outputs": [],
   "source": [
    "def randomNumber(start,stop=None,step=1):\n",
    "    \"\"\"\n",
    "    Generierung einer zufälligen Zahl nach random.randrange():\n",
    "    Choose a random item from range(start, stop[, step])\n",
    "    \"\"\"\n",
    "    return random.randrange(start=start,stop=stop,step=step)"
   ]
  },
  {
   "cell_type": "code",
   "execution_count": 10,
   "metadata": {},
   "outputs": [
    {
     "data": {
      "text/plain": [
       "14"
      ]
     },
     "execution_count": 10,
     "metadata": {},
     "output_type": "execute_result"
    }
   ],
   "source": [
    "randomNumber(1,20,1)"
   ]
  },
  {
   "cell_type": "code",
   "execution_count": 11,
   "metadata": {},
   "outputs": [],
   "source": [
    "import time \n",
    "import datetime\n",
    "def randomDate(start, end=datetime.datetime.now().strftime(\"%d.%m.%Y\"), format=\"%d.%m.%Y\", prop=random.random()):\n",
    "    \"\"\"Get a time at a proportion of a range of two formatted times.\n",
    "\n",
    "    start and end should be strings specifying times formated in the\n",
    "    given format (strftime-style), giving an interval [start, end].\n",
    "    prop specifies how a proportion of the interval to be taken after\n",
    "    start.  The returned time will be in the specified format.\n",
    "    \"\"\"\n",
    "\n",
    "    stime = time.mktime(time.strptime(start, format))\n",
    "    etime = time.mktime(time.strptime(end, format))\n",
    "\n",
    "    ptime = stime + prop * (etime - stime)\n",
    "\n",
    "    return time.strftime(format, time.localtime(ptime))"
   ]
  },
  {
   "cell_type": "code",
   "execution_count": 12,
   "metadata": {},
   "outputs": [
    {
     "data": {
      "text/plain": [
       "'30.06.2021'"
      ]
     },
     "execution_count": 12,
     "metadata": {},
     "output_type": "execute_result"
    }
   ],
   "source": [
    "randomDate(\"12.10.2020\",\"12.10.2022\",\"%d.%m.%Y\",random.random())"
   ]
  },
  {
   "cell_type": "code",
   "execution_count": 13,
   "metadata": {},
   "outputs": [],
   "source": [
    "def randomName():\n",
    "    preNames = [\"Tana\",\"Francoise\",\"Emmie\",\"Stuart\",\"Cedrick\",\"Tiffani\",\"Kym\",\"Woodrow\",\"Jolene\",\"Autumn\",\"Moriah\",\"Claud\",\"Antoinette\",\n",
    "                \"Gisele\",\"Chrissy\",\"Ellena\",\"Hilton\",\"Susanne\",\"Lindy\",\"Nakesha\",\"Rebecca\",\"Lavenia\",\"Donya\",\"Claudia\",\"Dreama\",\"Alla\",\n",
    "                \"Freeman\",\"Weston\",\"Jacki\",\"Helene\"]\n",
    "    lastName = [\"Allinder\",\"Longley\",\"Dobyns\",\"Coldiron\",\"Justin\",\"Munroe\",\"Boll\",\"Clingerman\",\"Pries\",\"Santangelo\",\"Miller\",\"Bohman\",\"Meachum\",\n",
    "                \"Kamer\",\"Waits\",\"Polin\",\"Suitt\",\"Saulter\",\"Pelt\",\"Dapolito\",\"Guild\",\"Beeks\",\"Hollingshead\",\"Schissler\",\"Cardamone\",\"Sypher\",\n",
    "                \"Fannin\",\"Belizaire\",\"Burleigh\",\"Eslinger\"]\n",
    "    return str(randomElementInList(preNames) + \" \" + randomElementInList(lastName))"
   ]
  },
  {
   "cell_type": "code",
   "execution_count": 14,
   "metadata": {},
   "outputs": [
    {
     "data": {
      "text/plain": [
       "'Claudia Munroe'"
      ]
     },
     "execution_count": 14,
     "metadata": {},
     "output_type": "execute_result"
    }
   ],
   "source": [
    "randomName()"
   ]
  },
  {
   "cell_type": "markdown",
   "metadata": {},
   "source": [
    "## TODO"
   ]
  },
  {
   "cell_type": "code",
   "execution_count": 15,
   "metadata": {},
   "outputs": [],
   "source": [
    "# read Merkamle Varianten"
   ]
  },
  {
   "cell_type": "code",
   "execution_count": 16,
   "metadata": {},
   "outputs": [],
   "source": [
    "# to python list"
   ]
  },
  {
   "cell_type": "code",
   "execution_count": 17,
   "metadata": {},
   "outputs": [],
   "source": [
    "# randomElementInList"
   ]
  },
  {
   "cell_type": "code",
   "execution_count": 18,
   "metadata": {},
   "outputs": [],
   "source": [
    "# write value in column"
   ]
  }
 ],
 "metadata": {
  "kernelspec": {
   "display_name": "Python 3",
   "language": "python",
   "name": "python3"
  },
  "language_info": {
   "codemirror_mode": {
    "name": "ipython",
    "version": 3
   },
   "file_extension": ".py",
   "mimetype": "text/x-python",
   "name": "python",
   "nbconvert_exporter": "python",
   "pygments_lexer": "ipython3",
   "version": "3.7.6"
  }
 },
 "nbformat": 4,
 "nbformat_minor": 4
}
