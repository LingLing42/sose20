{
 "cells": [
  {
   "cell_type": "markdown",
   "metadata": {},
   "source": [
    "### Nutzung der Helper-Klasse"
   ]
  },
  {
   "cell_type": "code",
   "execution_count": 1,
   "metadata": {},
   "outputs": [],
   "source": [
    "from db_communication import db_communication\n",
    "import pandas as pd\n",
    "import numpy as np"
   ]
  },
  {
   "cell_type": "code",
   "execution_count": 2,
   "metadata": {},
   "outputs": [
    {
     "name": "stdout",
     "output_type": "stream",
     "text": [
      "Successfully connected.\n"
     ]
    }
   ],
   "source": [
    "config = {\n",
    "    'user': 'root',\n",
    "    'password': 'FDS-apm1',\n",
    "    'host': 'min-ifm-xdm.ad.fh-bielefeld.de',\n",
    "    'port': '3306',\n",
    "    'database': 'NeueDB' \n",
    "}\n",
    "my_db = db_communication(config)"
   ]
  },
  {
   "cell_type": "code",
   "execution_count": 3,
   "metadata": {
    "scrolled": true
   },
   "outputs": [
    {
     "data": {
      "text/plain": [
       "['Artikel', 'Auftrag', 'Auftragsposten', 'Einzelteile', 'Kunde', 'Stueckliste']"
      ]
     },
     "execution_count": 3,
     "metadata": {},
     "output_type": "execute_result"
    }
   ],
   "source": [
    "tables = my_db.read_tables()\n",
    "tables = [tables[i][0] for i in range(len(tables))]\n",
    "tables"
   ]
  },
  {
   "cell_type": "code",
   "execution_count": 4,
   "metadata": {},
   "outputs": [
    {
     "name": "stdout",
     "output_type": "stream",
     "text": [
      "Artikel\n",
      "[('ArtNr', 'int(11)', 'NO', 'PRI', None, 'auto_increment'), ('Bezeichnung', 'char(35)', 'NO', '', None, ''), ('Preis', 'decimal(7,2)', 'YES', '', None, ''), ('Montagezeit', 'int(11)', 'YES', '', None, ''), ('Ausstattung', 'char(35)', 'YES', '', None, '')]\n",
      "Auftrag\n",
      "[('AuftrNr', 'int(11)', 'NO', 'PRI', None, 'auto_increment'), ('Datum', 'date', 'YES', '', None, ''), ('KundenNr', 'int(11)', 'NO', 'MUL', None, '')]\n",
      "Auftragsposten\n",
      "[('PosNr', 'int(11)', 'NO', 'PRI', None, 'auto_increment'), ('AuftragNr', 'int(11)', 'NO', 'MUL', None, ''), ('ArtikelNr', 'int(11)', 'NO', 'MUL', None, ''), ('Anzahl', 'int(11)', 'YES', '', None, ''), ('Gesamtpreis', 'decimal(7,2)', 'YES', '', None, '')]\n",
      "Einzelteile\n",
      "[('EinzelteilNr', 'int(11)', 'NO', 'PRI', None, 'auto_increment'), ('Bezeichnung', 'char(35)', 'NO', '', None, ''), ('Preis', 'decimal(7,2)', 'YES', '', None, '')]\n",
      "Kunde\n",
      "[('KundenNr', 'int(11)', 'NO', 'PRI', None, 'auto_increment'), ('Name', 'char(30)', 'NO', '', None, ''), ('Vorname', 'char(30)', 'NO', '', None, ''), ('Mail', 'char(60)', 'YES', '', None, '')]\n",
      "Stueckliste\n",
      "[('ArtNr', 'int(11)', 'NO', 'PRI', None, ''), ('EinzelteilNr', 'int(11)', 'NO', 'PRI', None, ''), ('Anzahl', 'int(11)', 'YES', '', None, '')]\n"
     ]
    }
   ],
   "source": [
    "for table in tables:\n",
    "    print(table)\n",
    "    print(my_db.show_columns(table))"
   ]
  },
  {
   "cell_type": "markdown",
   "metadata": {},
   "source": [
    "### Funktionen nach Kategorie des zufälligen Wertes: "
   ]
  },
  {
   "cell_type": "code",
   "execution_count": 5,
   "metadata": {},
   "outputs": [],
   "source": [
    "import random\n",
    "def randomElementInList(values):\n",
    "    \"\"\"\n",
    "    Auswahl eines zufälligen Elements aus dem Wertebereich values\n",
    "    Bsp.: ['Basic','Holland','BMX','Klassisch','Einrad'] ->  return = 'BMX'\n",
    "    \"\"\"\n",
    "    return random.choice(values)"
   ]
  },
  {
   "cell_type": "code",
   "execution_count": 6,
   "metadata": {},
   "outputs": [
    {
     "data": {
      "text/plain": [
       "'Holland'"
      ]
     },
     "execution_count": 6,
     "metadata": {},
     "output_type": "execute_result"
    }
   ],
   "source": [
    "randomElementInList(['Basic','Holland','BMX','Klassisch','Einrad'])"
   ]
  },
  {
   "cell_type": "code",
   "execution_count": 7,
   "metadata": {},
   "outputs": [],
   "source": [
    "def randomNumber(start,stop=None,step=1):\n",
    "    \"\"\"\n",
    "    Generierung einer zufälligen Zahl nach random.randrange():\n",
    "    Choose a random item from range(start, stop[, step])\n",
    "    \"\"\"\n",
    "    return random.randrange(start=start,stop=stop,step=step)"
   ]
  },
  {
   "cell_type": "code",
   "execution_count": 8,
   "metadata": {},
   "outputs": [
    {
     "data": {
      "text/plain": [
       "9"
      ]
     },
     "execution_count": 8,
     "metadata": {},
     "output_type": "execute_result"
    }
   ],
   "source": [
    "randomNumber(1,20,1)"
   ]
  },
  {
   "cell_type": "code",
   "execution_count": 9,
   "metadata": {},
   "outputs": [],
   "source": [
    "import time \n",
    "import datetime\n",
    "def randomDate(start, end=datetime.datetime.now().strftime(\"%d.%m.%Y\"), format=\"%d.%m.%Y\", prop=random.random()):\n",
    "    \"\"\"Get a time at a proportion of a range of two formatted times.\n",
    "\n",
    "    start and end should be strings specifying times formated in the\n",
    "    given format (strftime-style), giving an interval [start, end].\n",
    "    prop specifies how a proportion of the interval to be taken after\n",
    "    start.  The returned time will be in the specified format.\n",
    "    \"\"\"\n",
    "\n",
    "    stime = time.mktime(time.strptime(start, format))\n",
    "    etime = time.mktime(time.strptime(end, format))\n",
    "\n",
    "    ptime = stime + prop * (etime - stime)\n",
    "\n",
    "    return time.strftime(format, time.localtime(ptime))"
   ]
  },
  {
   "cell_type": "code",
   "execution_count": 10,
   "metadata": {},
   "outputs": [
    {
     "data": {
      "text/plain": [
       "'12.06.2022'"
      ]
     },
     "execution_count": 10,
     "metadata": {},
     "output_type": "execute_result"
    }
   ],
   "source": [
    "randomDate(\"12.10.2020\",\"12.10.2022\",\"%d.%m.%Y\",random.random())"
   ]
  },
  {
   "cell_type": "code",
   "execution_count": 11,
   "metadata": {},
   "outputs": [],
   "source": [
    "def randomName():\n",
    "    preNames = [\"Tana\",\"Francoise\",\"Emmie\",\"Stuart\",\"Cedrick\",\"Tiffani\",\"Kym\",\"Woodrow\",\"Jolene\",\"Autumn\",\"Moriah\",\"Claud\",\"Antoinette\",\n",
    "                \"Gisele\",\"Chrissy\",\"Ellena\",\"Hilton\",\"Susanne\",\"Lindy\",\"Nakesha\",\"Rebecca\",\"Lavenia\",\"Donya\",\"Claudia\",\"Dreama\",\"Alla\",\n",
    "                \"Freeman\",\"Weston\",\"Jacki\",\"Helene\"]\n",
    "    lastName = [\"Allinder\",\"Longley\",\"Dobyns\",\"Coldiron\",\"Justin\",\"Munroe\",\"Boll\",\"Clingerman\",\"Pries\",\"Santangelo\",\"Miller\",\"Bohman\",\"Meachum\",\n",
    "                \"Kamer\",\"Waits\",\"Polin\",\"Suitt\",\"Saulter\",\"Pelt\",\"Dapolito\",\"Guild\",\"Beeks\",\"Hollingshead\",\"Schissler\",\"Cardamone\",\"Sypher\",\n",
    "                \"Fannin\",\"Belizaire\",\"Burleigh\",\"Eslinger\"]\n",
    "    return randomElementInList(preNames), randomElementInList(lastName)"
   ]
  },
  {
   "cell_type": "code",
   "execution_count": 12,
   "metadata": {},
   "outputs": [],
   "source": [
    "def randomMail(preName,lastName):\n",
    "    providers = ['gmail.com','web.de','telekom.de','apple.com','fh-bielefeld.de']\n",
    "    mail = \"{0}.{1}@{2}\".format(preName.lower(),lastName.lower(),randomElementInList(providers).lower())\n",
    "    return mail"
   ]
  },
  {
   "cell_type": "markdown",
   "metadata": {},
   "source": [
    "## Fill data"
   ]
  },
  {
   "cell_type": "markdown",
   "metadata": {},
   "source": [
    "### Kundendaten"
   ]
  },
  {
   "cell_type": "code",
   "execution_count": 20,
   "metadata": {},
   "outputs": [],
   "source": [
    "def fillCustomerTable(n,columnNamesDB=['Name','Vorname','Mail'],includeID=True):\n",
    "    \"\"\"\n",
    "    Hinzufügen von zufällig generierten Einträgen in der DB-Tabelle 'Kunde'\n",
    "    \n",
    "    n - Anzahl der Einträge die hinzugefügt werden sollen\n",
    "    columnNamesDB - Spaltennamen der Kunden-Tabelle in der DB (mit Ausnahme der KundenNr; Reihenfolge beachten!) \n",
    "    includeID - Ob KundenNr seperat mit angelegt werden soll\n",
    "    \n",
    "    Es werden die Inhalte nach den defaults in den Parametern erzeugt!\n",
    "    Das Ändern der Reihenfolge der Spalten und die Hinzunahme weiterer Spalten muss im Quellcode angepasst werden!\n",
    "    \"\"\"\n",
    "    # Kundentabelle füllen\n",
    "    table_name = 'Kunde'\n",
    "    customerId = 'KundenNr'\n",
    "    if includeID:\n",
    "        customer_keys = np.concatenate(([customerId],columnNamesDB)) \n",
    "    else:\n",
    "        customer_keys = columnNamesDB\n",
    "    for i in range(n):\n",
    "        customer_name = randomName()\n",
    "        customer_values = i+1, customer_name[0], customer_name[1], randomMail(*customer_name)\n",
    "        if includeID:\n",
    "            customer_dict = dict(zip(customer_keys,customer_values))\n",
    "        else:\n",
    "            customer_dict = dict(zip(customer_keys,customer_values[1:]))\n",
    "        my_db.insert_data(table_name,customer_dict)"
   ]
  },
  {
   "cell_type": "code",
   "execution_count": 21,
   "metadata": {},
   "outputs": [
    {
     "name": "stdout",
     "output_type": "stream",
     "text": [
      "INSERT INTO `Kunde` (`Name`, `Vorname`, `Mail`) VALUES ('Moriah', 'Waits', 'moriah.waits@apple.com');\n"
     ]
    }
   ],
   "source": [
    "fillCustomerTable(1,includeID=False)"
   ]
  },
  {
   "cell_type": "markdown",
   "metadata": {},
   "source": [
    "### Aufträge"
   ]
  },
  {
   "cell_type": "code",
   "execution_count": 38,
   "metadata": {},
   "outputs": [],
   "source": [
    "def fillOrderTable(n,columnNamesDB=['Datum','KundenNr'],includeID=True,\n",
    "                   customerTableName='Kunde',customerId='KundenNr',startDate='2020-01-01'):\n",
    "    \"\"\"\n",
    "    Hinzufügen von zufällig generierten Einträgen in der DB-Tabelle 'Aufträge'\n",
    "    \n",
    "    n - Anzahl der Einträge die hinzugefügt werden sollen\n",
    "    columnNamesDB - Spaltennamen der Auftrag-Tabelle in der DB (mit Ausnahme der AuftrNr; Reihenfolge beachten!) \n",
    "    includeCustomerID - Ob AuftrNr seperat mit angelegt werden soll\n",
    "    customerTableName - Name der DB-Tabelle 'Kunde'\n",
    "    customerId - Name der Identifikationsnummer in customerTable\n",
    "    startDate - Startdatum zur zufälligen Erzeugung\n",
    "    \n",
    "    Es werden die Inhalte nach den defaults in den Parametern erzeugt!\n",
    "    Das Ändern der Reihenfolge der Spalten und die Hinzunahme weiterer Spalten muss im Quellcode angepasst werden!\n",
    "    \"\"\"\n",
    "    table_name = 'Auftrag'\n",
    "    orderId = 'AuftrNr'\n",
    "    \n",
    "    # Lesen der Wertebereiche aus relevanten Tabellen\n",
    "    df_customers = my_db.get_table(customerTableName)\n",
    "    \n",
    "    # Auftragstabelle füllen\n",
    "    if includeID:\n",
    "        order_keys = np.concatenate(([customerId],columnNamesDB)) \n",
    "    else:\n",
    "        order_keys = columnNamesDB\n",
    "    for i in range(n):\n",
    "        rand_orderDate = randomDate(start=startDate,\n",
    "                                    end=datetime.datetime.now().strftime(\"%Y-%m-%d\"),\n",
    "                                    format=\"%Y-%m-%d\",\n",
    "                                    prop=random.random())\n",
    "        rand_customerId = randomNumber(start=df_customers[customerId].astype(int).min(),\n",
    "                                        stop=df_customers[customerId].astype(int).max())\n",
    "        order_values = i+1, rand_orderDate, rand_customerId\n",
    "        if includeID:\n",
    "            order_dict = dict(zip(order_keys,order_values))\n",
    "        else:\n",
    "            order_dict = dict(zip(order_keys,order_values[1:]))\n",
    "        my_db.insert_data(table_name,order_dict)"
   ]
  },
  {
   "cell_type": "code",
   "execution_count": 39,
   "metadata": {},
   "outputs": [
    {
     "name": "stdout",
     "output_type": "stream",
     "text": [
      "INSERT INTO `Auftrag` (`KundenNr`, `Datum`) VALUES ('2', '2020-05-18');\n"
     ]
    }
   ],
   "source": [
    "fillOrderTable(1)"
   ]
  }
 ],
 "metadata": {
  "kernelspec": {
   "display_name": "Python 3",
   "language": "python",
   "name": "python3"
  },
  "language_info": {
   "codemirror_mode": {
    "name": "ipython",
    "version": 3
   },
   "file_extension": ".py",
   "mimetype": "text/x-python",
   "name": "python",
   "nbconvert_exporter": "python",
   "pygments_lexer": "ipython3",
   "version": "3.7.6"
  }
 },
 "nbformat": 4,
 "nbformat_minor": 4
}
